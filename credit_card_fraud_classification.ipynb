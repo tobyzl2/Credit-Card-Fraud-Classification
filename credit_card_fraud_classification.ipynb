{
 "cells": [
  {
   "cell_type": "markdown",
   "metadata": {},
   "source": [
    "# Credit Card Fraud Classification - Toby Liang"
   ]
  },
  {
   "cell_type": "markdown",
   "metadata": {},
   "source": [
    "## I. Import Essential Libraries"
   ]
  },
  {
   "cell_type": "code",
   "execution_count": 1,
   "metadata": {},
   "outputs": [],
   "source": [
    "# Arrays and dataframes\n",
    "import numpy as np\n",
    "import pandas as pd\n",
    "\n",
    "# Visualization libraries\n",
    "import matplotlib.pyplot as plt\n",
    "%matplotlib inline\n",
    "import seaborn as sns"
   ]
  },
  {
   "cell_type": "markdown",
   "metadata": {},
   "source": [
    "## II. Introducing the Data"
   ]
  },
  {
   "cell_type": "code",
   "execution_count": 2,
   "metadata": {
    "scrolled": true
   },
   "outputs": [
    {
     "name": "stdout",
     "output_type": "stream",
     "text": [
      "Number of examples: 284807\n",
      "Number of variables: 31\n",
      "Unique Labels: [0 1]\n",
      "\n"
     ]
    },
    {
     "data": {
      "text/html": [
       "<div>\n",
       "<style scoped>\n",
       "    .dataframe tbody tr th:only-of-type {\n",
       "        vertical-align: middle;\n",
       "    }\n",
       "\n",
       "    .dataframe tbody tr th {\n",
       "        vertical-align: top;\n",
       "    }\n",
       "\n",
       "    .dataframe thead th {\n",
       "        text-align: right;\n",
       "    }\n",
       "</style>\n",
       "<table border=\"1\" class=\"dataframe\">\n",
       "  <thead>\n",
       "    <tr style=\"text-align: right;\">\n",
       "      <th></th>\n",
       "      <th>time</th>\n",
       "      <th>v1</th>\n",
       "      <th>v2</th>\n",
       "      <th>v3</th>\n",
       "      <th>v4</th>\n",
       "      <th>v5</th>\n",
       "      <th>v6</th>\n",
       "      <th>v7</th>\n",
       "      <th>v8</th>\n",
       "      <th>v9</th>\n",
       "      <th>...</th>\n",
       "      <th>v21</th>\n",
       "      <th>v22</th>\n",
       "      <th>v23</th>\n",
       "      <th>v24</th>\n",
       "      <th>v25</th>\n",
       "      <th>v26</th>\n",
       "      <th>v27</th>\n",
       "      <th>v28</th>\n",
       "      <th>amount</th>\n",
       "      <th>label</th>\n",
       "    </tr>\n",
       "  </thead>\n",
       "  <tbody>\n",
       "    <tr>\n",
       "      <th>0</th>\n",
       "      <td>0.0</td>\n",
       "      <td>-1.359807</td>\n",
       "      <td>-0.072781</td>\n",
       "      <td>2.536347</td>\n",
       "      <td>1.378155</td>\n",
       "      <td>-0.338321</td>\n",
       "      <td>0.462388</td>\n",
       "      <td>0.239599</td>\n",
       "      <td>0.098698</td>\n",
       "      <td>0.363787</td>\n",
       "      <td>...</td>\n",
       "      <td>-0.018307</td>\n",
       "      <td>0.277838</td>\n",
       "      <td>-0.110474</td>\n",
       "      <td>0.066928</td>\n",
       "      <td>0.128539</td>\n",
       "      <td>-0.189115</td>\n",
       "      <td>0.133558</td>\n",
       "      <td>-0.021053</td>\n",
       "      <td>149.62</td>\n",
       "      <td>0</td>\n",
       "    </tr>\n",
       "    <tr>\n",
       "      <th>1</th>\n",
       "      <td>0.0</td>\n",
       "      <td>1.191857</td>\n",
       "      <td>0.266151</td>\n",
       "      <td>0.166480</td>\n",
       "      <td>0.448154</td>\n",
       "      <td>0.060018</td>\n",
       "      <td>-0.082361</td>\n",
       "      <td>-0.078803</td>\n",
       "      <td>0.085102</td>\n",
       "      <td>-0.255425</td>\n",
       "      <td>...</td>\n",
       "      <td>-0.225775</td>\n",
       "      <td>-0.638672</td>\n",
       "      <td>0.101288</td>\n",
       "      <td>-0.339846</td>\n",
       "      <td>0.167170</td>\n",
       "      <td>0.125895</td>\n",
       "      <td>-0.008983</td>\n",
       "      <td>0.014724</td>\n",
       "      <td>2.69</td>\n",
       "      <td>0</td>\n",
       "    </tr>\n",
       "    <tr>\n",
       "      <th>2</th>\n",
       "      <td>1.0</td>\n",
       "      <td>-1.358354</td>\n",
       "      <td>-1.340163</td>\n",
       "      <td>1.773209</td>\n",
       "      <td>0.379780</td>\n",
       "      <td>-0.503198</td>\n",
       "      <td>1.800499</td>\n",
       "      <td>0.791461</td>\n",
       "      <td>0.247676</td>\n",
       "      <td>-1.514654</td>\n",
       "      <td>...</td>\n",
       "      <td>0.247998</td>\n",
       "      <td>0.771679</td>\n",
       "      <td>0.909412</td>\n",
       "      <td>-0.689281</td>\n",
       "      <td>-0.327642</td>\n",
       "      <td>-0.139097</td>\n",
       "      <td>-0.055353</td>\n",
       "      <td>-0.059752</td>\n",
       "      <td>378.66</td>\n",
       "      <td>0</td>\n",
       "    </tr>\n",
       "    <tr>\n",
       "      <th>3</th>\n",
       "      <td>1.0</td>\n",
       "      <td>-0.966272</td>\n",
       "      <td>-0.185226</td>\n",
       "      <td>1.792993</td>\n",
       "      <td>-0.863291</td>\n",
       "      <td>-0.010309</td>\n",
       "      <td>1.247203</td>\n",
       "      <td>0.237609</td>\n",
       "      <td>0.377436</td>\n",
       "      <td>-1.387024</td>\n",
       "      <td>...</td>\n",
       "      <td>-0.108300</td>\n",
       "      <td>0.005274</td>\n",
       "      <td>-0.190321</td>\n",
       "      <td>-1.175575</td>\n",
       "      <td>0.647376</td>\n",
       "      <td>-0.221929</td>\n",
       "      <td>0.062723</td>\n",
       "      <td>0.061458</td>\n",
       "      <td>123.50</td>\n",
       "      <td>0</td>\n",
       "    </tr>\n",
       "    <tr>\n",
       "      <th>4</th>\n",
       "      <td>2.0</td>\n",
       "      <td>-1.158233</td>\n",
       "      <td>0.877737</td>\n",
       "      <td>1.548718</td>\n",
       "      <td>0.403034</td>\n",
       "      <td>-0.407193</td>\n",
       "      <td>0.095921</td>\n",
       "      <td>0.592941</td>\n",
       "      <td>-0.270533</td>\n",
       "      <td>0.817739</td>\n",
       "      <td>...</td>\n",
       "      <td>-0.009431</td>\n",
       "      <td>0.798278</td>\n",
       "      <td>-0.137458</td>\n",
       "      <td>0.141267</td>\n",
       "      <td>-0.206010</td>\n",
       "      <td>0.502292</td>\n",
       "      <td>0.219422</td>\n",
       "      <td>0.215153</td>\n",
       "      <td>69.99</td>\n",
       "      <td>0</td>\n",
       "    </tr>\n",
       "  </tbody>\n",
       "</table>\n",
       "<p>5 rows × 31 columns</p>\n",
       "</div>"
      ],
      "text/plain": [
       "   time        v1        v2        v3        v4        v5        v6        v7  \\\n",
       "0   0.0 -1.359807 -0.072781  2.536347  1.378155 -0.338321  0.462388  0.239599   \n",
       "1   0.0  1.191857  0.266151  0.166480  0.448154  0.060018 -0.082361 -0.078803   \n",
       "2   1.0 -1.358354 -1.340163  1.773209  0.379780 -0.503198  1.800499  0.791461   \n",
       "3   1.0 -0.966272 -0.185226  1.792993 -0.863291 -0.010309  1.247203  0.237609   \n",
       "4   2.0 -1.158233  0.877737  1.548718  0.403034 -0.407193  0.095921  0.592941   \n",
       "\n",
       "         v8        v9  ...       v21       v22       v23       v24       v25  \\\n",
       "0  0.098698  0.363787  ... -0.018307  0.277838 -0.110474  0.066928  0.128539   \n",
       "1  0.085102 -0.255425  ... -0.225775 -0.638672  0.101288 -0.339846  0.167170   \n",
       "2  0.247676 -1.514654  ...  0.247998  0.771679  0.909412 -0.689281 -0.327642   \n",
       "3  0.377436 -1.387024  ... -0.108300  0.005274 -0.190321 -1.175575  0.647376   \n",
       "4 -0.270533  0.817739  ... -0.009431  0.798278 -0.137458  0.141267 -0.206010   \n",
       "\n",
       "        v26       v27       v28  amount  label  \n",
       "0 -0.189115  0.133558 -0.021053  149.62      0  \n",
       "1  0.125895 -0.008983  0.014724    2.69      0  \n",
       "2 -0.139097 -0.055353 -0.059752  378.66      0  \n",
       "3 -0.221929  0.062723  0.061458  123.50      0  \n",
       "4  0.502292  0.219422  0.215153   69.99      0  \n",
       "\n",
       "[5 rows x 31 columns]"
      ]
     },
     "execution_count": 2,
     "metadata": {},
     "output_type": "execute_result"
    }
   ],
   "source": [
    "# Import the data\n",
    "path = \"./data/credit_card.csv\"\n",
    "dataset = pd.read_csv(path)\n",
    "\n",
    "# Renaming columns\n",
    "columns = []\n",
    "for col in dataset.columns:\n",
    "    columns.append(col.lower())\n",
    "columns[-1] = \"label\"\n",
    "dataset.columns = columns\n",
    "\n",
    "# Shape of dataset\n",
    "print(\"Number of examples: {}\\nNumber of variables: {}\".format(dataset.shape[0], dataset.shape[1]))\n",
    "\n",
    "# Checking for number of unique labels\n",
    "print(\"Unique Labels: {}\\n\".format(dataset.label.unique()))\n",
    "\n",
    "# Printing first 5 rows\n",
    "dataset.head()"
   ]
  },
  {
   "cell_type": "markdown",
   "metadata": {},
   "source": [
    "We have 284,807 examples with 31 columns.  There are two unique labels in the dataset, meaning that this is a binary classification problem."
   ]
  },
  {
   "cell_type": "markdown",
   "metadata": {},
   "source": [
    "## III. Exploratory Data Analysis, Data Cleaning, and Data Transformation"
   ]
  },
  {
   "cell_type": "markdown",
   "metadata": {},
   "source": [
    "### 1. Missing Values Imputation"
   ]
  },
  {
   "cell_type": "code",
   "execution_count": 3,
   "metadata": {},
   "outputs": [
    {
     "name": "stdout",
     "output_type": "stream",
     "text": [
      "Variables with NaN values: []\n",
      "Variables with zero values: [{'time': 2}, {'amount': 1825}, {'label': 284315}]\n"
     ]
    }
   ],
   "source": [
    "# Checking for NaN values\n",
    "has_nan_vars = []\n",
    "for var, nan_count in (dataset.isnull().sum()).items():\n",
    "    if (nan_count != 0):\n",
    "        has_nan_vars.append({var: nan_count})\n",
    "        \n",
    "# Checking for 0 values\n",
    "has_zero_vars = []\n",
    "for var, zero_count in ((dataset == 0).astype(int).sum()).items():\n",
    "    if(zero_count != 0):\n",
    "        has_zero_vars.append({var: zero_count})\n",
    "        \n",
    "print(\"Variables with NaN values: {}\".format(has_nan_vars))\n",
    "print(\"Variables with zero values: {}\".format(has_zero_vars))"
   ]
  },
  {
   "cell_type": "code",
   "execution_count": 4,
   "metadata": {},
   "outputs": [
    {
     "name": "stdout",
     "output_type": "stream",
     "text": [
      "Fraudulent zero amount count: 27\n",
      "Non-fraudulent zero amount count: 1798\n"
     ]
    }
   ],
   "source": [
    "# Count entries that have a 0 value for amount and is fraudulent\n",
    "print(\"Fraudulent zero amount count: {}\".format(((dataset.amount == 0).astype(int) & (dataset.label == 1)).sum()))\n",
    "\n",
    "# Count entries that have a 0 value for amount and is not fraudulent\n",
    "print(\"Non-fraudulent zero amount count: {}\".format(((dataset.amount == 0).astype(int) & (dataset.label == 0)).sum()))"
   ]
  },
  {
   "cell_type": "markdown",
   "metadata": {},
   "source": [
    "No features have NaN values.  The only features that have zero values are time and amount.  Time is the amount of time in seconds after the first transaction which can be zero if the transactions occur at the same time.  Amount is the amount of money involved in a transaction.  27 entries have a 0 transaction amount and is fraudulent."
   ]
  },
  {
   "cell_type": "code",
   "execution_count": 5,
   "metadata": {},
   "outputs": [
    {
     "name": "stdout",
     "output_type": "stream",
     "text": [
      "Zero amount count: 0\n"
     ]
    }
   ],
   "source": [
    "# Remove 0 amount transactions\n",
    "copy_dataset = dataset.drop(dataset[dataset[\"amount\"] == 0].index)\n",
    "mean = copy_dataset[\"amount\"].mean()\n",
    "dataset[\"amount\"].mask(dataset[\"amount\"] == 0, mean, inplace=True)\n",
    "\n",
    "# Sanity check\n",
    "print(\"Zero amount count: {}\".format(((dataset.amount == 0).astype(int)).sum()))\n",
    "\n",
    "dataset.reset_index(drop=True, inplace=True)"
   ]
  },
  {
   "cell_type": "markdown",
   "metadata": {},
   "source": [
    "### 2. Datatype Checking"
   ]
  },
  {
   "cell_type": "code",
   "execution_count": 6,
   "metadata": {
    "scrolled": true
   },
   "outputs": [
    {
     "name": "stdout",
     "output_type": "stream",
     "text": [
      "Feature Datatypes: \n",
      "float64    30\n",
      "int64       1\n",
      "dtype: int64\n"
     ]
    }
   ],
   "source": [
    "# Check if features are all continuous (float64)\n",
    "print(\"Feature Datatypes: \\n{}\".format(dataset.dtypes.value_counts()))"
   ]
  },
  {
   "cell_type": "markdown",
   "metadata": {},
   "source": [
    "All 30 features are continuous numerical with a datatype of float64.  The label is binary and is of type int64."
   ]
  },
  {
   "cell_type": "markdown",
   "metadata": {},
   "source": [
    "### 3. Duplicate Removal"
   ]
  },
  {
   "cell_type": "code",
   "execution_count": 7,
   "metadata": {
    "scrolled": true
   },
   "outputs": [
    {
     "data": {
      "text/plain": [
       "False    283726\n",
       "True       1081\n",
       "dtype: int64"
      ]
     },
     "execution_count": 7,
     "metadata": {},
     "output_type": "execute_result"
    }
   ],
   "source": [
    "# Checking for duplicate rows\n",
    "dataset.duplicated().value_counts()"
   ]
  },
  {
   "cell_type": "markdown",
   "metadata": {},
   "source": [
    "There are 1081 duplicate rows in the dataset.  These duplicates will have to be dropped so that there are no duplicates in the test set."
   ]
  },
  {
   "cell_type": "code",
   "execution_count": 8,
   "metadata": {},
   "outputs": [
    {
     "name": "stdout",
     "output_type": "stream",
     "text": [
      "Duplicates: 0\n"
     ]
    }
   ],
   "source": [
    "# Drop duplicates (Do not want duplicates in test set)\n",
    "dataset.drop_duplicates(inplace=True)\n",
    "\n",
    "# Duplicate drop sanity check\n",
    "print(\"Duplicates: {}\".format(dataset.duplicated().sum()))\n",
    "\n",
    "dataset.reset_index(drop=True, inplace=True)"
   ]
  },
  {
   "cell_type": "markdown",
   "metadata": {},
   "source": [
    "### 4. Univariate Analysis"
   ]
  },
  {
   "cell_type": "code",
   "execution_count": 9,
   "metadata": {},
   "outputs": [
    {
     "data": {
      "text/html": [
       "<div>\n",
       "<style scoped>\n",
       "    .dataframe tbody tr th:only-of-type {\n",
       "        vertical-align: middle;\n",
       "    }\n",
       "\n",
       "    .dataframe tbody tr th {\n",
       "        vertical-align: top;\n",
       "    }\n",
       "\n",
       "    .dataframe thead th {\n",
       "        text-align: right;\n",
       "    }\n",
       "</style>\n",
       "<table border=\"1\" class=\"dataframe\">\n",
       "  <thead>\n",
       "    <tr style=\"text-align: right;\">\n",
       "      <th></th>\n",
       "      <th>time</th>\n",
       "      <th>v1</th>\n",
       "      <th>v2</th>\n",
       "      <th>v3</th>\n",
       "      <th>v4</th>\n",
       "      <th>v5</th>\n",
       "      <th>v6</th>\n",
       "      <th>v7</th>\n",
       "      <th>v8</th>\n",
       "      <th>v9</th>\n",
       "      <th>...</th>\n",
       "      <th>v21</th>\n",
       "      <th>v22</th>\n",
       "      <th>v23</th>\n",
       "      <th>v24</th>\n",
       "      <th>v25</th>\n",
       "      <th>v26</th>\n",
       "      <th>v27</th>\n",
       "      <th>v28</th>\n",
       "      <th>amount</th>\n",
       "      <th>label</th>\n",
       "    </tr>\n",
       "  </thead>\n",
       "  <tbody>\n",
       "    <tr>\n",
       "      <th>count</th>\n",
       "      <td>283726.00</td>\n",
       "      <td>283726.00</td>\n",
       "      <td>283726.00</td>\n",
       "      <td>283726.00</td>\n",
       "      <td>283726.00</td>\n",
       "      <td>283726.00</td>\n",
       "      <td>283726.00</td>\n",
       "      <td>283726.00</td>\n",
       "      <td>283726.00</td>\n",
       "      <td>283726.00</td>\n",
       "      <td>...</td>\n",
       "      <td>283726.00</td>\n",
       "      <td>283726.00</td>\n",
       "      <td>283726.00</td>\n",
       "      <td>283726.00</td>\n",
       "      <td>283726.00</td>\n",
       "      <td>283726.00</td>\n",
       "      <td>283726.00</td>\n",
       "      <td>283726.00</td>\n",
       "      <td>283726.00</td>\n",
       "      <td>283726.00</td>\n",
       "    </tr>\n",
       "    <tr>\n",
       "      <th>mean</th>\n",
       "      <td>94811.08</td>\n",
       "      <td>0.01</td>\n",
       "      <td>-0.00</td>\n",
       "      <td>0.00</td>\n",
       "      <td>-0.00</td>\n",
       "      <td>0.00</td>\n",
       "      <td>-0.00</td>\n",
       "      <td>0.00</td>\n",
       "      <td>-0.00</td>\n",
       "      <td>-0.00</td>\n",
       "      <td>...</td>\n",
       "      <td>-0.00</td>\n",
       "      <td>-0.00</td>\n",
       "      <td>0.00</td>\n",
       "      <td>0.00</td>\n",
       "      <td>-0.00</td>\n",
       "      <td>0.00</td>\n",
       "      <td>0.00</td>\n",
       "      <td>0.00</td>\n",
       "      <td>89.04</td>\n",
       "      <td>0.00</td>\n",
       "    </tr>\n",
       "    <tr>\n",
       "      <th>std</th>\n",
       "      <td>47481.05</td>\n",
       "      <td>1.95</td>\n",
       "      <td>1.65</td>\n",
       "      <td>1.51</td>\n",
       "      <td>1.41</td>\n",
       "      <td>1.38</td>\n",
       "      <td>1.33</td>\n",
       "      <td>1.23</td>\n",
       "      <td>1.18</td>\n",
       "      <td>1.10</td>\n",
       "      <td>...</td>\n",
       "      <td>0.72</td>\n",
       "      <td>0.72</td>\n",
       "      <td>0.62</td>\n",
       "      <td>0.61</td>\n",
       "      <td>0.52</td>\n",
       "      <td>0.48</td>\n",
       "      <td>0.40</td>\n",
       "      <td>0.33</td>\n",
       "      <td>250.30</td>\n",
       "      <td>0.04</td>\n",
       "    </tr>\n",
       "    <tr>\n",
       "      <th>min</th>\n",
       "      <td>0.00</td>\n",
       "      <td>-56.41</td>\n",
       "      <td>-72.72</td>\n",
       "      <td>-48.33</td>\n",
       "      <td>-5.68</td>\n",
       "      <td>-113.74</td>\n",
       "      <td>-26.16</td>\n",
       "      <td>-43.56</td>\n",
       "      <td>-73.22</td>\n",
       "      <td>-13.43</td>\n",
       "      <td>...</td>\n",
       "      <td>-34.83</td>\n",
       "      <td>-10.93</td>\n",
       "      <td>-44.81</td>\n",
       "      <td>-2.84</td>\n",
       "      <td>-10.30</td>\n",
       "      <td>-2.60</td>\n",
       "      <td>-22.57</td>\n",
       "      <td>-15.43</td>\n",
       "      <td>0.01</td>\n",
       "      <td>0.00</td>\n",
       "    </tr>\n",
       "    <tr>\n",
       "      <th>25%</th>\n",
       "      <td>54204.75</td>\n",
       "      <td>-0.92</td>\n",
       "      <td>-0.60</td>\n",
       "      <td>-0.89</td>\n",
       "      <td>-0.85</td>\n",
       "      <td>-0.69</td>\n",
       "      <td>-0.77</td>\n",
       "      <td>-0.55</td>\n",
       "      <td>-0.21</td>\n",
       "      <td>-0.64</td>\n",
       "      <td>...</td>\n",
       "      <td>-0.23</td>\n",
       "      <td>-0.54</td>\n",
       "      <td>-0.16</td>\n",
       "      <td>-0.35</td>\n",
       "      <td>-0.32</td>\n",
       "      <td>-0.33</td>\n",
       "      <td>-0.07</td>\n",
       "      <td>-0.05</td>\n",
       "      <td>5.99</td>\n",
       "      <td>0.00</td>\n",
       "    </tr>\n",
       "    <tr>\n",
       "      <th>50%</th>\n",
       "      <td>84692.50</td>\n",
       "      <td>0.02</td>\n",
       "      <td>0.06</td>\n",
       "      <td>0.18</td>\n",
       "      <td>-0.02</td>\n",
       "      <td>-0.05</td>\n",
       "      <td>-0.28</td>\n",
       "      <td>0.04</td>\n",
       "      <td>0.02</td>\n",
       "      <td>-0.05</td>\n",
       "      <td>...</td>\n",
       "      <td>-0.03</td>\n",
       "      <td>0.01</td>\n",
       "      <td>-0.01</td>\n",
       "      <td>0.04</td>\n",
       "      <td>0.02</td>\n",
       "      <td>-0.05</td>\n",
       "      <td>0.00</td>\n",
       "      <td>0.01</td>\n",
       "      <td>22.94</td>\n",
       "      <td>0.00</td>\n",
       "    </tr>\n",
       "    <tr>\n",
       "      <th>75%</th>\n",
       "      <td>139298.00</td>\n",
       "      <td>1.32</td>\n",
       "      <td>0.80</td>\n",
       "      <td>1.03</td>\n",
       "      <td>0.74</td>\n",
       "      <td>0.61</td>\n",
       "      <td>0.40</td>\n",
       "      <td>0.57</td>\n",
       "      <td>0.33</td>\n",
       "      <td>0.60</td>\n",
       "      <td>...</td>\n",
       "      <td>0.19</td>\n",
       "      <td>0.53</td>\n",
       "      <td>0.15</td>\n",
       "      <td>0.44</td>\n",
       "      <td>0.35</td>\n",
       "      <td>0.24</td>\n",
       "      <td>0.09</td>\n",
       "      <td>0.08</td>\n",
       "      <td>79.95</td>\n",
       "      <td>0.00</td>\n",
       "    </tr>\n",
       "    <tr>\n",
       "      <th>max</th>\n",
       "      <td>172792.00</td>\n",
       "      <td>2.45</td>\n",
       "      <td>22.06</td>\n",
       "      <td>9.38</td>\n",
       "      <td>16.88</td>\n",
       "      <td>34.80</td>\n",
       "      <td>73.30</td>\n",
       "      <td>120.59</td>\n",
       "      <td>20.01</td>\n",
       "      <td>15.59</td>\n",
       "      <td>...</td>\n",
       "      <td>27.20</td>\n",
       "      <td>10.50</td>\n",
       "      <td>22.53</td>\n",
       "      <td>4.58</td>\n",
       "      <td>7.52</td>\n",
       "      <td>3.52</td>\n",
       "      <td>31.61</td>\n",
       "      <td>33.85</td>\n",
       "      <td>25691.16</td>\n",
       "      <td>1.00</td>\n",
       "    </tr>\n",
       "  </tbody>\n",
       "</table>\n",
       "<p>8 rows × 31 columns</p>\n",
       "</div>"
      ],
      "text/plain": [
       "            time         v1         v2         v3         v4         v5  \\\n",
       "count  283726.00  283726.00  283726.00  283726.00  283726.00  283726.00   \n",
       "mean    94811.08       0.01      -0.00       0.00      -0.00       0.00   \n",
       "std     47481.05       1.95       1.65       1.51       1.41       1.38   \n",
       "min         0.00     -56.41     -72.72     -48.33      -5.68    -113.74   \n",
       "25%     54204.75      -0.92      -0.60      -0.89      -0.85      -0.69   \n",
       "50%     84692.50       0.02       0.06       0.18      -0.02      -0.05   \n",
       "75%    139298.00       1.32       0.80       1.03       0.74       0.61   \n",
       "max    172792.00       2.45      22.06       9.38      16.88      34.80   \n",
       "\n",
       "              v6         v7         v8         v9  ...        v21        v22  \\\n",
       "count  283726.00  283726.00  283726.00  283726.00  ...  283726.00  283726.00   \n",
       "mean       -0.00       0.00      -0.00      -0.00  ...      -0.00      -0.00   \n",
       "std         1.33       1.23       1.18       1.10  ...       0.72       0.72   \n",
       "min       -26.16     -43.56     -73.22     -13.43  ...     -34.83     -10.93   \n",
       "25%        -0.77      -0.55      -0.21      -0.64  ...      -0.23      -0.54   \n",
       "50%        -0.28       0.04       0.02      -0.05  ...      -0.03       0.01   \n",
       "75%         0.40       0.57       0.33       0.60  ...       0.19       0.53   \n",
       "max        73.30     120.59      20.01      15.59  ...      27.20      10.50   \n",
       "\n",
       "             v23        v24        v25        v26        v27        v28  \\\n",
       "count  283726.00  283726.00  283726.00  283726.00  283726.00  283726.00   \n",
       "mean        0.00       0.00      -0.00       0.00       0.00       0.00   \n",
       "std         0.62       0.61       0.52       0.48       0.40       0.33   \n",
       "min       -44.81      -2.84     -10.30      -2.60     -22.57     -15.43   \n",
       "25%        -0.16      -0.35      -0.32      -0.33      -0.07      -0.05   \n",
       "50%        -0.01       0.04       0.02      -0.05       0.00       0.01   \n",
       "75%         0.15       0.44       0.35       0.24       0.09       0.08   \n",
       "max        22.53       4.58       7.52       3.52      31.61      33.85   \n",
       "\n",
       "          amount      label  \n",
       "count  283726.00  283726.00  \n",
       "mean       89.04       0.00  \n",
       "std       250.30       0.04  \n",
       "min         0.01       0.00  \n",
       "25%         5.99       0.00  \n",
       "50%        22.94       0.00  \n",
       "75%        79.95       0.00  \n",
       "max     25691.16       1.00  \n",
       "\n",
       "[8 rows x 31 columns]"
      ]
     },
     "execution_count": 9,
     "metadata": {},
     "output_type": "execute_result"
    }
   ],
   "source": [
    "# Feature description\n",
    "dataset.describe().round(2)"
   ]
  },
  {
   "cell_type": "code",
   "execution_count": 10,
   "metadata": {
    "scrolled": false
   },
   "outputs": [
    {
     "name": "stdout",
     "output_type": "stream",
     "text": [
      "0    283253\n",
      "1       473\n",
      "Name: label, dtype: int64\n"
     ]
    },
    {
     "data": {
      "image/png": "[encoded data removed]",
      "text/plain": [
       "<Figure size 432x288 with 1 Axes>"
      ]
     },
     "metadata": {
      "needs_background": "light"
     },
     "output_type": "display_data"
    }
   ],
   "source": [
    "# Label counts\n",
    "print(dataset.label.value_counts())\n",
    "sns.countplot(dataset.label)\n",
    "plt.show()"
   ]
  },
  {
   "cell_type": "markdown",
   "metadata": {},
   "source": [
    "In this dataset, there are significantly more nonfradulent data, making this an imbalanced dataset.  Though most of the data has a mean of 0 (except for time, amount, and label), the standard deviation is not 1.  Thus, the data is not already standardized.  Additionally, the data includes values that are extremely far from the mean, especially in v6 and v7."
   ]
  },
  {
   "cell_type": "markdown",
   "metadata": {},
   "source": [
    "### 5. Train Test Splitting"
   ]
  },
  {
   "cell_type": "code",
   "execution_count": 11,
   "metadata": {},
   "outputs": [],
   "source": [
    "from sklearn.model_selection import train_test_split\n",
    "\n",
    "train_features, test_features, train_labels, test_labels = train_test_split(dataset.drop(\"label\", axis = 1), dataset[[\"label\"]], test_size = 0.01)"
   ]
  },
  {
   "cell_type": "markdown",
   "metadata": {},
   "source": [
    "### 6. Feature Scaling"
   ]
  },
  {
   "cell_type": "code",
   "execution_count": 12,
   "metadata": {},
   "outputs": [],
   "source": [
    "from sklearn.preprocessing import StandardScaler\n",
    "\n",
    "# Initialize scaler and computer training mean and std\n",
    "scaler = StandardScaler()\n",
    "scaler.fit(train_features)\n",
    "\n",
    "# Normalize the training and testing features using training mean and std\n",
    "train_features = pd.DataFrame(scaler.transform(train_features), index = train_features.index, columns = train_features.columns)\n",
    "test_features = pd.DataFrame(scaler.transform(test_features), index = test_features.index, columns = test_features.columns)"
   ]
  },
  {
   "cell_type": "code",
   "execution_count": 13,
   "metadata": {
    "scrolled": true
   },
   "outputs": [
    {
     "data": {
      "image/png": "[encoded data removed]",
      "text/plain": [
       "<Figure size 1080x1080 with 1 Axes>"
      ]
     },
     "metadata": {
      "needs_background": "light"
     },
     "output_type": "display_data"
    }
   ],
   "source": [
    "train_features.boxplot(figsize = (15,15)).set_title(\"Feature Distributions\")\n",
    "plt.show()"
   ]
  },
  {
   "cell_type": "markdown",
   "metadata": {},
   "source": [
    "### 6. Resampling: Undersample, Oversample, SMOTE"
   ]
  },
  {
   "cell_type": "code",
   "execution_count": 14,
   "metadata": {
    "scrolled": true
   },
   "outputs": [
    {
     "name": "stderr",
     "output_type": "stream",
     "text": [
      "Using TensorFlow backend.\n"
     ]
    }
   ],
   "source": [
    "from imblearn.over_sampling import SMOTE\n",
    "from sklearn.utils import resample\n",
    "\n",
    "# Concatenate features and labels for train set\n",
    "train_dataset = pd.concat([train_features, train_labels], axis = 1)\n",
    "\n",
    "# Get non_fraud and fraud data\n",
    "not_fraud_dataset = train_dataset[train_dataset.label == 0]\n",
    "fraud_dataset = train_dataset[train_dataset.label == 1]\n",
    "\n",
    "def undersample(not_fraud_dataset, fraud_dataset):\n",
    "    # Undersample not_fraud\n",
    "    not_fraud_undersampled = resample(not_fraud_dataset, replace = True, n_samples = len(fraud_dataset))\n",
    "    \n",
    "    # Concatenate undersampled not_fraud with fraud\n",
    "    train_dataset_undersampled = pd.concat([not_fraud_undersampled, fraud_dataset])\n",
    "    \n",
    "    return train_dataset_undersampled\n",
    "\n",
    "def oversample(not_fraud_dataset, fraud_dataset):\n",
    "    # Oversample fraud\n",
    "    fraud_oversampled = resample(fraud_dataset, replace = True, n_samples = len(not_fraud_dataset))\n",
    "    \n",
    "    # Concatenate oversampled fraud with not_fraud\n",
    "    train_dataset_oversampled = pd.concat([fraud_oversampled, not_fraud_dataset])\n",
    "    \n",
    "    return train_dataset_oversampled\n",
    "\n",
    "def smote(train_features, train_labels):\n",
    "    # Apply smote\n",
    "    sm = SMOTE()\n",
    "    train_features_smote, train_labels_smote = sm.fit_sample(train_features, train_labels)\n",
    "    \n",
    "    # Concatenate features and labels\n",
    "    train_features_smote_df = pd.DataFrame(train_features_smote, columns = train_features.columns)\n",
    "    train_lables_smote_df = pd.DataFrame(train_labels_smote, columns = train_labels.columns)\n",
    "    train_dataset_smote = pd.concat([train_features_smote_df, train_lables_smote_df], axis = 1)\n",
    "    \n",
    "    return train_dataset_smote"
   ]
  },
  {
   "cell_type": "code",
   "execution_count": 15,
   "metadata": {},
   "outputs": [
    {
     "name": "stderr",
     "output_type": "stream",
     "text": [
      "/Library/Frameworks/Python.framework/Versions/3.6/lib/python3.6/site-packages/sklearn/utils/validation.py:724: DataConversionWarning: A column-vector y was passed when a 1d array was expected. Please change the shape of y to (n_samples, ), for example using ravel().\n",
      "  y = column_or_1d(y, warn=True)\n"
     ]
    }
   ],
   "source": [
    "# Undersampled dataset\n",
    "train_dataset_undersampled = undersample(not_fraud_dataset, fraud_dataset)\n",
    "train_features_undersampled = train_dataset_undersampled.drop(\"label\", axis = 1)\n",
    "train_labels_undersampled = train_dataset_undersampled[\"label\"]\n",
    "\n",
    "# Oversampled dataset\n",
    "train_dataset_oversampled = oversample(not_fraud_dataset, fraud_dataset)\n",
    "train_features_oversampled = train_dataset_oversampled.drop(\"label\", axis = 1)\n",
    "train_labels_oversampled = train_dataset_oversampled[\"label\"]\n",
    "\n",
    "# Smote dataset\n",
    "train_dataset_smote = smote(train_features, train_labels)\n",
    "train_features_smote = train_dataset_smote.drop(\"label\", axis = 1)\n",
    "train_labels_smote = train_dataset_smote[\"label\"]\n",
    "\n",
    "# Dictionaries\n",
    "train_datasets_dict = {\"Undersampled\": train_dataset_undersampled, \"Oversampled\": train_dataset_oversampled, \"SMOTE\": train_dataset_smote}\n",
    "train_features_dict = {\"Undersampled\": train_features_undersampled, \"Oversampled\": train_features_oversampled, \"SMOTE\": train_features_smote}\n",
    "train_labels_dict = {\"Undersampled\": train_labels_undersampled, \"Oversampled\": train_labels_oversampled, \"SMOTE\": train_labels_smote}"
   ]
  },
  {
   "cell_type": "code",
   "execution_count": 16,
   "metadata": {},
   "outputs": [
    {
     "name": "stdout",
     "output_type": "stream",
     "text": [
      "Undersampled Label Counts\n",
      "1    466\n",
      "0    466\n",
      "Name: label, dtype: int64\n"
     ]
    },
    {
     "data": {
      "image/png": "[encoded data removed]",
      "text/plain": [
       "<Figure size 432x288 with 1 Axes>"
      ]
     },
     "metadata": {
      "needs_background": "light"
     },
     "output_type": "display_data"
    },
    {
     "name": "stdout",
     "output_type": "stream",
     "text": [
      "Oversampled Label Counts\n",
      "1    280422\n",
      "0    280422\n",
      "Name: label, dtype: int64\n"
     ]
    },
    {
     "data": {
      "image/png": "[encoded data removed]",
      "text/plain": [
       "<Figure size 432x288 with 1 Axes>"
      ]
     },
     "metadata": {
      "needs_background": "light"
     },
     "output_type": "display_data"
    },
    {
     "name": "stdout",
     "output_type": "stream",
     "text": [
      "SMOTE Label Counts\n",
      "1    280422\n",
      "0    280422\n",
      "Name: label, dtype: int64\n"
     ]
    },
    {
     "data": {
      "image/png": "[encoded data removed]",
      "text/plain": [
       "<Figure size 432x288 with 1 Axes>"
      ]
     },
     "metadata": {
      "needs_background": "light"
     },
     "output_type": "display_data"
    }
   ],
   "source": [
    "# Print label counts\n",
    "for name, dataset in train_datasets_dict.items():\n",
    "    print(\"{} Label Counts\".format(name))\n",
    "    print(dataset.label.value_counts())\n",
    "    sns.countplot(dataset.label).set_title(\"{} Label Counts\".format(name))\n",
    "    plt.show()"
   ]
  },
  {
   "cell_type": "markdown",
   "metadata": {},
   "source": [
    "### 7. Bivariate Analysis"
   ]
  },
  {
   "cell_type": "code",
   "execution_count": 17,
   "metadata": {},
   "outputs": [
    {
     "data": {
      "image/png": "[encoded data removed]",
      "text/plain": [
       "<Figure size 1440x720 with 2 Axes>"
      ]
     },
     "metadata": {
      "needs_background": "light"
     },
     "output_type": "display_data"
    },
    {
     "data": {
      "image/png": "[encoded data removed]",
      "text/plain": [
       "<Figure size 1440x720 with 2 Axes>"
      ]
     },
     "metadata": {
      "needs_background": "light"
     },
     "output_type": "display_data"
    },
    {
     "data": {
      "image/png": "[encoded data removed]",
      "text/plain": [
       "<Figure size 1440x720 with 2 Axes>"
      ]
     },
     "metadata": {
      "needs_background": "light"
     },
     "output_type": "display_data"
    }
   ],
   "source": [
    "# Feature-feature correlation heatmap\n",
    "for name, features in train_features_dict.items():\n",
    "    plt.figure(figsize=(20, 10))\n",
    "    plt.title(\"{} Feature-Feature Correlation\".format(name))\n",
    "    sns.heatmap(features.corr())\n",
    "    plt.show()"
   ]
  },
  {
   "cell_type": "code",
   "execution_count": 18,
   "metadata": {},
   "outputs": [
    {
     "data": {
      "image/png": "[encoded data removed]",
      "text/plain": [
       "<Figure size 1440x720 with 1 Axes>"
      ]
     },
     "metadata": {
      "needs_background": "light"
     },
     "output_type": "display_data"
    },
    {
     "data": {
      "image/png": "[encoded data removed]",
      "text/plain": [
       "<Figure size 1440x720 with 1 Axes>"
      ]
     },
     "metadata": {
      "needs_background": "light"
     },
     "output_type": "display_data"
    },
    {
     "data": {
      "image/png": "[encoded data removed]",
      "text/plain": [
       "<Figure size 1440x720 with 1 Axes>"
      ]
     },
     "metadata": {
      "needs_background": "light"
     },
     "output_type": "display_data"
    }
   ],
   "source": [
    "# Feature-label correlation barplot\n",
    "for name, dataset in train_datasets_dict.items():\n",
    "    plt.figure(figsize=(20, 10))\n",
    "    plt.title(\"{} Feature-Label Correlation\".format(name))\n",
    "    sns.barplot(dataset.drop(\"label\", axis = 1).columns, dataset.corr()[\"label\"].iloc[:-1])\n",
    "    plt.show()"
   ]
  },
  {
   "cell_type": "markdown",
   "metadata": {},
   "source": [
    "### 8. Outlier Treatment"
   ]
  },
  {
   "cell_type": "code",
   "execution_count": 19,
   "metadata": {},
   "outputs": [
    {
     "name": "stdout",
     "output_type": "stream",
     "text": [
      "Undersampled Outlier Count:\n",
      "1    307\n",
      "0    112\n",
      "Name: label, dtype: int64\n",
      "\n",
      "Oversampled Outlier Count:\n",
      "1    185150\n",
      "0     69941\n",
      "Name: label, dtype: int64\n",
      "\n",
      "SMOTE Outlier Count:\n",
      "1    166497\n",
      "0     75032\n",
      "Name: label, dtype: int64\n",
      "\n"
     ]
    }
   ],
   "source": [
    "for name, dataset in train_datasets_dict.items():\n",
    "    # Find interquartile range\n",
    "    q1 = dataset.quantile(0.25)\n",
    "    q3 = dataset.quantile(0.75)\n",
    "    iqr = q3 - q1\n",
    "\n",
    "    # Consolidate dataset indexes\n",
    "    dataset.reset_index(drop=True, inplace=True)\n",
    "\n",
    "    # Detect outliers\n",
    "    outlier_index = dataset[(dataset < q1 - 1.5 * iqr) | (dataset > q3 + 1.5 * iqr)].dropna(how=\"all\").index\n",
    "    outliers = dataset.iloc[outlier_index.to_list()]\n",
    "    \n",
    "    print(\"{} Outlier Count:\\n{}\\n\".format(name, outliers[\"label\"].value_counts()))"
   ]
  },
  {
   "cell_type": "markdown",
   "metadata": {},
   "source": [
    "## IV. Implementing Deep Learning Model"
   ]
  },
  {
   "cell_type": "code",
   "execution_count": 20,
   "metadata": {},
   "outputs": [],
   "source": [
    "from keras.models import Sequential\n",
    "from keras.layers import Dense\n",
    "from keras.optimizers import Adam"
   ]
  },
  {
   "cell_type": "code",
   "execution_count": 28,
   "metadata": {},
   "outputs": [],
   "source": [
    "def train_model(train_features, train_labels):\n",
    "    model = Sequential()\n",
    "    model.add(Dense(16, activation = \"relu\", input_dim = train_features.shape[1]))\n",
    "    model.add(Dense(16, activation = \"relu\"))\n",
    "    model.add(Dense(1, activation = \"sigmoid\"))\n",
    "    model.compile(optimizer = Adam(lr = 0.05), loss=\"binary_crossentropy\", metrics = [\"acc\"])\n",
    "    return (model, model.fit(train_features, train_labels, epochs = 100))"
   ]
  },
  {
   "cell_type": "code",
   "execution_count": 29,
   "metadata": {},
   "outputs": [
    {
     "name": "stdout",
     "output_type": "stream",
     "text": [
      "Epoch 1/100\n",
      "932/932 [==============================] - 0s 340us/step - loss: 0.3023 - acc: 0.9120\n",
      "Epoch 2/100\n",
      "932/932 [==============================] - 0s 38us/step - loss: 0.1677 - acc: 0.9421\n",
      "Epoch 3/100\n",
      "932/932 [==============================] - 0s 33us/step - loss: 0.1423 - acc: 0.9421\n",
      "Epoch 4/100\n",
      "932/932 [==============================] - 0s 32us/step - loss: 0.1192 - acc: 0.9496\n",
      "Epoch 5/100\n",
      "932/932 [==============================] - 0s 30us/step - loss: 0.1242 - acc: 0.9399\n",
      "Epoch 6/100\n",
      "932/932 [==============================] - 0s 35us/step - loss: 0.1227 - acc: 0.9464\n",
      "Epoch 7/100\n",
      "932/932 [==============================] - 0s 32us/step - loss: 0.1250 - acc: 0.9431\n",
      "Epoch 8/100\n",
      "932/932 [==============================] - 0s 30us/step - loss: 0.1601 - acc: 0.9388\n",
      "Epoch 9/100\n",
      "932/932 [==============================] - 0s 36us/step - loss: 0.1101 - acc: 0.9442\n",
      "Epoch 10/100\n",
      "932/932 [==============================] - 0s 33us/step - loss: 0.0895 - acc: 0.9496\n",
      "Epoch 11/100\n",
      "932/932 [==============================] - 0s 31us/step - loss: 0.0717 - acc: 0.9657\n",
      "Epoch 12/100\n",
      "932/932 [==============================] - 0s 30us/step - loss: 0.0576 - acc: 0.9700\n",
      "Epoch 13/100\n",
      "932/932 [==============================] - 0s 33us/step - loss: 0.0516 - acc: 0.9742\n",
      "Epoch 14/100\n",
      "932/932 [==============================] - 0s 38us/step - loss: 0.0611 - acc: 0.9775\n",
      "Epoch 15/100\n",
      "932/932 [==============================] - 0s 35us/step - loss: 0.0642 - acc: 0.9742\n",
      "Epoch 16/100\n",
      "932/932 [==============================] - 0s 31us/step - loss: 0.0633 - acc: 0.9689\n",
      "Epoch 17/100\n",
      "932/932 [==============================] - 0s 35us/step - loss: 0.0506 - acc: 0.9764\n",
      "Epoch 18/100\n",
      "932/932 [==============================] - 0s 31us/step - loss: 0.0496 - acc: 0.9764\n",
      "Epoch 19/100\n",
      "932/932 [==============================] - 0s 33us/step - loss: 0.0492 - acc: 0.9785\n",
      "Epoch 20/100\n",
      "932/932 [==============================] - 0s 31us/step - loss: 0.0760 - acc: 0.9753\n",
      "Epoch 21/100\n",
      "932/932 [==============================] - 0s 33us/step - loss: 0.0685 - acc: 0.9742\n",
      "Epoch 22/100\n",
      "932/932 [==============================] - 0s 33us/step - loss: 0.0466 - acc: 0.9732\n",
      "Epoch 23/100\n",
      "932/932 [==============================] - 0s 33us/step - loss: 0.0318 - acc: 0.9839\n",
      "Epoch 24/100\n",
      "932/932 [==============================] - 0s 35us/step - loss: 0.0419 - acc: 0.9839\n",
      "Epoch 25/100\n",
      "932/932 [==============================] - 0s 32us/step - loss: 0.0660 - acc: 0.9818\n",
      "Epoch 26/100\n",
      "932/932 [==============================] - 0s 37us/step - loss: 0.0486 - acc: 0.9775\n",
      "Epoch 27/100\n",
      "932/932 [==============================] - 0s 34us/step - loss: 0.0658 - acc: 0.9635\n",
      "Epoch 28/100\n",
      "932/932 [==============================] - 0s 38us/step - loss: 0.0653 - acc: 0.9753\n",
      "Epoch 29/100\n",
      "932/932 [==============================] - 0s 36us/step - loss: 0.1082 - acc: 0.9560\n",
      "Epoch 30/100\n",
      "932/932 [==============================] - 0s 34us/step - loss: 0.0865 - acc: 0.9624\n",
      "Epoch 31/100\n",
      "932/932 [==============================] - 0s 34us/step - loss: 0.0675 - acc: 0.9678\n",
      "Epoch 32/100\n",
      "932/932 [==============================] - 0s 35us/step - loss: 0.0531 - acc: 0.9710\n",
      "Epoch 33/100\n",
      "932/932 [==============================] - 0s 32us/step - loss: 0.0391 - acc: 0.9764\n",
      "Epoch 34/100\n",
      "932/932 [==============================] - 0s 32us/step - loss: 0.0376 - acc: 0.9796\n",
      "Epoch 35/100\n",
      "932/932 [==============================] - 0s 36us/step - loss: 0.0335 - acc: 0.9828\n",
      "Epoch 36/100\n",
      "932/932 [==============================] - 0s 29us/step - loss: 0.0309 - acc: 0.9839\n",
      "Epoch 37/100\n",
      "932/932 [==============================] - 0s 36us/step - loss: 0.0257 - acc: 0.9871\n",
      "Epoch 38/100\n",
      "932/932 [==============================] - 0s 31us/step - loss: 0.0401 - acc: 0.9807\n",
      "Epoch 39/100\n",
      "932/932 [==============================] - 0s 35us/step - loss: 0.0516 - acc: 0.9828\n",
      "Epoch 40/100\n",
      "932/932 [==============================] - 0s 34us/step - loss: 0.1168 - acc: 0.9732\n",
      "Epoch 41/100\n",
      "932/932 [==============================] - 0s 33us/step - loss: 0.1162 - acc: 0.9646\n",
      "Epoch 42/100\n",
      "932/932 [==============================] - 0s 33us/step - loss: 0.1197 - acc: 0.9485\n",
      "Epoch 43/100\n",
      "932/932 [==============================] - 0s 31us/step - loss: 0.0956 - acc: 0.9582\n",
      "Epoch 44/100\n",
      "932/932 [==============================] - 0s 31us/step - loss: 0.0880 - acc: 0.9614\n",
      "Epoch 45/100\n",
      "932/932 [==============================] - 0s 35us/step - loss: 0.0746 - acc: 0.9657\n",
      "Epoch 46/100\n",
      "932/932 [==============================] - 0s 33us/step - loss: 0.0493 - acc: 0.9742\n",
      "Epoch 47/100\n",
      "932/932 [==============================] - 0s 31us/step - loss: 0.1123 - acc: 0.9732\n",
      "Epoch 48/100\n",
      "932/932 [==============================] - 0s 34us/step - loss: 0.1183 - acc: 0.9689\n",
      "Epoch 49/100\n",
      "932/932 [==============================] - 0s 38us/step - loss: 0.1259 - acc: 0.9721\n",
      "Epoch 50/100\n",
      "932/932 [==============================] - 0s 35us/step - loss: 0.1892 - acc: 0.9549\n",
      "Epoch 51/100\n",
      "932/932 [==============================] - 0s 33us/step - loss: 0.1218 - acc: 0.9549\n",
      "Epoch 52/100\n",
      "932/932 [==============================] - 0s 37us/step - loss: 0.1127 - acc: 0.9582\n",
      "Epoch 53/100\n",
      "932/932 [==============================] - 0s 34us/step - loss: 0.0947 - acc: 0.9667\n",
      "Epoch 54/100\n",
      "932/932 [==============================] - 0s 33us/step - loss: 0.0880 - acc: 0.9678\n",
      "Epoch 55/100\n",
      "932/932 [==============================] - 0s 36us/step - loss: 0.0785 - acc: 0.9689\n",
      "Epoch 56/100\n",
      "932/932 [==============================] - 0s 32us/step - loss: 0.0698 - acc: 0.9646\n",
      "Epoch 57/100\n",
      "932/932 [==============================] - 0s 33us/step - loss: 0.0678 - acc: 0.9667\n",
      "Epoch 58/100\n",
      "932/932 [==============================] - 0s 31us/step - loss: 0.0684 - acc: 0.9678\n",
      "Epoch 59/100\n",
      "932/932 [==============================] - 0s 37us/step - loss: 0.0567 - acc: 0.9678\n",
      "Epoch 60/100\n",
      "932/932 [==============================] - 0s 31us/step - loss: 0.0532 - acc: 0.9689\n",
      "Epoch 61/100\n",
      "932/932 [==============================] - 0s 33us/step - loss: 0.0616 - acc: 0.9700\n",
      "Epoch 62/100\n",
      "932/932 [==============================] - 0s 32us/step - loss: 0.0562 - acc: 0.9667\n",
      "Epoch 63/100\n",
      "932/932 [==============================] - 0s 34us/step - loss: 0.0516 - acc: 0.9667\n",
      "Epoch 64/100\n",
      "932/932 [==============================] - 0s 34us/step - loss: 0.0491 - acc: 0.9657\n",
      "Epoch 65/100\n",
      "932/932 [==============================] - 0s 34us/step - loss: 0.0466 - acc: 0.9614\n",
      "Epoch 66/100\n",
      "932/932 [==============================] - 0s 34us/step - loss: 0.0460 - acc: 0.9678\n",
      "Epoch 67/100\n",
      "932/932 [==============================] - 0s 34us/step - loss: 0.0439 - acc: 0.9657\n",
      "Epoch 68/100\n",
      "932/932 [==============================] - 0s 31us/step - loss: 0.0430 - acc: 0.9689\n",
      "Epoch 69/100\n",
      "932/932 [==============================] - 0s 34us/step - loss: 0.0432 - acc: 0.9678\n",
      "Epoch 70/100\n",
      "932/932 [==============================] - 0s 31us/step - loss: 0.0436 - acc: 0.9678\n",
      "Epoch 71/100\n",
      "932/932 [==============================] - 0s 31us/step - loss: 0.0432 - acc: 0.9657\n",
      "Epoch 72/100\n",
      "932/932 [==============================] - 0s 32us/step - loss: 0.0429 - acc: 0.9667\n",
      "Epoch 73/100\n",
      "932/932 [==============================] - 0s 31us/step - loss: 0.0427 - acc: 0.9700\n",
      "Epoch 74/100\n",
      "932/932 [==============================] - 0s 32us/step - loss: 0.0431 - acc: 0.9732\n",
      "Epoch 75/100\n",
      "932/932 [==============================] - 0s 32us/step - loss: 0.0427 - acc: 0.9689\n",
      "Epoch 76/100\n",
      "932/932 [==============================] - 0s 32us/step - loss: 0.0427 - acc: 0.9657\n",
      "Epoch 77/100\n",
      "932/932 [==============================] - 0s 39us/step - loss: 0.0428 - acc: 0.9700\n",
      "Epoch 78/100\n",
      "932/932 [==============================] - 0s 30us/step - loss: 0.0428 - acc: 0.9667\n",
      "Epoch 79/100\n",
      "932/932 [==============================] - 0s 35us/step - loss: 0.0434 - acc: 0.9678\n",
      "Epoch 80/100\n",
      "932/932 [==============================] - 0s 31us/step - loss: 0.0750 - acc: 0.9657\n",
      "Epoch 81/100\n",
      "932/932 [==============================] - 0s 30us/step - loss: 0.0650 - acc: 0.9700\n",
      "Epoch 82/100\n",
      "932/932 [==============================] - 0s 34us/step - loss: 0.0643 - acc: 0.9689\n",
      "Epoch 83/100\n",
      "932/932 [==============================] - 0s 33us/step - loss: 0.0647 - acc: 0.9678\n",
      "Epoch 84/100\n"
     ]
    },
    {
     "name": "stdout",
     "output_type": "stream",
     "text": [
      "932/932 [==============================] - 0s 33us/step - loss: 0.0576 - acc: 0.9721\n",
      "Epoch 85/100\n",
      "932/932 [==============================] - 0s 34us/step - loss: 0.0817 - acc: 0.9689\n",
      "Epoch 86/100\n",
      "932/932 [==============================] - 0s 29us/step - loss: 0.0682 - acc: 0.9721\n",
      "Epoch 87/100\n",
      "932/932 [==============================] - 0s 29us/step - loss: 0.0624 - acc: 0.9667\n",
      "Epoch 88/100\n",
      "932/932 [==============================] - 0s 30us/step - loss: 0.0647 - acc: 0.9657\n",
      "Epoch 89/100\n",
      "932/932 [==============================] - 0s 30us/step - loss: 0.0545 - acc: 0.9657\n",
      "Epoch 90/100\n",
      "932/932 [==============================] - 0s 28us/step - loss: 0.0503 - acc: 0.9678\n",
      "Epoch 91/100\n",
      "932/932 [==============================] - 0s 31us/step - loss: 0.0554 - acc: 0.9678\n",
      "Epoch 92/100\n",
      "932/932 [==============================] - 0s 33us/step - loss: 0.0465 - acc: 0.9710\n",
      "Epoch 93/100\n",
      "932/932 [==============================] - 0s 32us/step - loss: 0.0460 - acc: 0.9710\n",
      "Epoch 94/100\n",
      "932/932 [==============================] - 0s 31us/step - loss: 0.0465 - acc: 0.9721\n",
      "Epoch 95/100\n",
      "932/932 [==============================] - 0s 30us/step - loss: 0.0395 - acc: 0.9732\n",
      "Epoch 96/100\n",
      "932/932 [==============================] - 0s 31us/step - loss: 0.0459 - acc: 0.9710\n",
      "Epoch 97/100\n",
      "932/932 [==============================] - 0s 31us/step - loss: 0.0414 - acc: 0.9700\n",
      "Epoch 98/100\n",
      "932/932 [==============================] - 0s 30us/step - loss: 0.0407 - acc: 0.9700\n",
      "Epoch 99/100\n",
      "932/932 [==============================] - 0s 30us/step - loss: 0.0485 - acc: 0.9742\n",
      "Epoch 100/100\n",
      "932/932 [==============================] - 0s 31us/step - loss: 0.0449 - acc: 0.9667\n"
     ]
    }
   ],
   "source": [
    "model, hist = train_model(train_features_undersampled.values, train_labels_undersampled.values)"
   ]
  },
  {
   "cell_type": "code",
   "execution_count": 30,
   "metadata": {},
   "outputs": [
    {
     "name": "stdout",
     "output_type": "stream",
     "text": [
      "2838/2838 [==============================] - 0s 32us/step\n"
     ]
    },
    {
     "data": {
      "text/plain": [
       "[0.3433986320619756, 0.9661733615221987]"
      ]
     },
     "execution_count": 30,
     "metadata": {},
     "output_type": "execute_result"
    }
   ],
   "source": [
    "model.evaluate(test_features, test_labels)"
   ]
  },
  {
   "cell_type": "code",
   "execution_count": null,
   "metadata": {},
   "outputs": [],
   "source": []
  }
 ],
 "metadata": {
  "kernelspec": {
   "display_name": "Python 3",
   "language": "python",
   "name": "python3"
  },
  "language_info": {
   "codemirror_mode": {
    "name": "ipython",
    "version": 3
   },
   "file_extension": ".py",
   "mimetype": "text/x-python",
   "name": "python",
   "nbconvert_exporter": "python",
   "pygments_lexer": "ipython3",
   "version": "3.6.7"
  }
 },
 "nbformat": 4,
 "nbformat_minor": 2
}
