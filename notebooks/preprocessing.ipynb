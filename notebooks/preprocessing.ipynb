{
 "cells": [
  {
   "cell_type": "markdown",
   "metadata": {},
   "source": [
    "# Data Preprocessing - Toby Liang"
   ]
  },
  {
   "cell_type": "markdown",
   "metadata": {},
   "source": [
    "## I. Import Essential Libraries"
   ]
  },
  {
   "cell_type": "code",
   "execution_count": 1,
   "metadata": {},
   "outputs": [],
   "source": [
    "# Arrays and dataframes\n",
    "import numpy as np\n",
    "import pandas as pd\n",
    "\n",
    "# Visualization libraries\n",
    "import matplotlib.pyplot as plt\n",
    "%matplotlib inline\n",
    "import seaborn as sns"
   ]
  },
  {
   "cell_type": "markdown",
   "metadata": {},
   "source": [
    "## II. Loading the Data"
   ]
  },
  {
   "cell_type": "code",
   "execution_count": 2,
   "metadata": {
    "scrolled": true
   },
   "outputs": [],
   "source": [
    "# Import the data\n",
    "data_path = \"../data/raw/credit_card.csv\"\n",
    "dataset = pd.read_csv(data_path)\n",
    "\n",
    "# Renaming columns\n",
    "columns = []\n",
    "for col in dataset.columns:\n",
    "    columns.append(col.lower())\n",
    "columns[-1] = \"label\"\n",
    "dataset.columns = columns"
   ]
  },
  {
   "cell_type": "markdown",
   "metadata": {},
   "source": [
    "## III. Data Introduction"
   ]
  },
  {
   "cell_type": "code",
   "execution_count": 3,
   "metadata": {},
   "outputs": [
    {
     "name": "stdout",
     "output_type": "stream",
     "text": [
      "Number of examples: 284807\n",
      "Number of variables: 31\n",
      "Unique labels: [0 1]\n",
      "\n",
      "Label counts: \n",
      "0    284315\n",
      "1       492\n",
      "Name: label, dtype: int64\n"
     ]
    },
    {
     "data": {
      "text/html": [
       "<div>\n",
       "<style scoped>\n",
       "    .dataframe tbody tr th:only-of-type {\n",
       "        vertical-align: middle;\n",
       "    }\n",
       "\n",
       "    .dataframe tbody tr th {\n",
       "        vertical-align: top;\n",
       "    }\n",
       "\n",
       "    .dataframe thead th {\n",
       "        text-align: right;\n",
       "    }\n",
       "</style>\n",
       "<table border=\"1\" class=\"dataframe\">\n",
       "  <thead>\n",
       "    <tr style=\"text-align: right;\">\n",
       "      <th></th>\n",
       "      <th>time</th>\n",
       "      <th>v1</th>\n",
       "      <th>v2</th>\n",
       "      <th>v3</th>\n",
       "      <th>v4</th>\n",
       "      <th>v5</th>\n",
       "      <th>v6</th>\n",
       "      <th>v7</th>\n",
       "      <th>v8</th>\n",
       "      <th>v9</th>\n",
       "      <th>...</th>\n",
       "      <th>v21</th>\n",
       "      <th>v22</th>\n",
       "      <th>v23</th>\n",
       "      <th>v24</th>\n",
       "      <th>v25</th>\n",
       "      <th>v26</th>\n",
       "      <th>v27</th>\n",
       "      <th>v28</th>\n",
       "      <th>amount</th>\n",
       "      <th>label</th>\n",
       "    </tr>\n",
       "  </thead>\n",
       "  <tbody>\n",
       "    <tr>\n",
       "      <td>0</td>\n",
       "      <td>0.0</td>\n",
       "      <td>-1.359807</td>\n",
       "      <td>-0.072781</td>\n",
       "      <td>2.536347</td>\n",
       "      <td>1.378155</td>\n",
       "      <td>-0.338321</td>\n",
       "      <td>0.462388</td>\n",
       "      <td>0.239599</td>\n",
       "      <td>0.098698</td>\n",
       "      <td>0.363787</td>\n",
       "      <td>...</td>\n",
       "      <td>-0.018307</td>\n",
       "      <td>0.277838</td>\n",
       "      <td>-0.110474</td>\n",
       "      <td>0.066928</td>\n",
       "      <td>0.128539</td>\n",
       "      <td>-0.189115</td>\n",
       "      <td>0.133558</td>\n",
       "      <td>-0.021053</td>\n",
       "      <td>149.62</td>\n",
       "      <td>0</td>\n",
       "    </tr>\n",
       "    <tr>\n",
       "      <td>1</td>\n",
       "      <td>0.0</td>\n",
       "      <td>1.191857</td>\n",
       "      <td>0.266151</td>\n",
       "      <td>0.166480</td>\n",
       "      <td>0.448154</td>\n",
       "      <td>0.060018</td>\n",
       "      <td>-0.082361</td>\n",
       "      <td>-0.078803</td>\n",
       "      <td>0.085102</td>\n",
       "      <td>-0.255425</td>\n",
       "      <td>...</td>\n",
       "      <td>-0.225775</td>\n",
       "      <td>-0.638672</td>\n",
       "      <td>0.101288</td>\n",
       "      <td>-0.339846</td>\n",
       "      <td>0.167170</td>\n",
       "      <td>0.125895</td>\n",
       "      <td>-0.008983</td>\n",
       "      <td>0.014724</td>\n",
       "      <td>2.69</td>\n",
       "      <td>0</td>\n",
       "    </tr>\n",
       "    <tr>\n",
       "      <td>2</td>\n",
       "      <td>1.0</td>\n",
       "      <td>-1.358354</td>\n",
       "      <td>-1.340163</td>\n",
       "      <td>1.773209</td>\n",
       "      <td>0.379780</td>\n",
       "      <td>-0.503198</td>\n",
       "      <td>1.800499</td>\n",
       "      <td>0.791461</td>\n",
       "      <td>0.247676</td>\n",
       "      <td>-1.514654</td>\n",
       "      <td>...</td>\n",
       "      <td>0.247998</td>\n",
       "      <td>0.771679</td>\n",
       "      <td>0.909412</td>\n",
       "      <td>-0.689281</td>\n",
       "      <td>-0.327642</td>\n",
       "      <td>-0.139097</td>\n",
       "      <td>-0.055353</td>\n",
       "      <td>-0.059752</td>\n",
       "      <td>378.66</td>\n",
       "      <td>0</td>\n",
       "    </tr>\n",
       "    <tr>\n",
       "      <td>3</td>\n",
       "      <td>1.0</td>\n",
       "      <td>-0.966272</td>\n",
       "      <td>-0.185226</td>\n",
       "      <td>1.792993</td>\n",
       "      <td>-0.863291</td>\n",
       "      <td>-0.010309</td>\n",
       "      <td>1.247203</td>\n",
       "      <td>0.237609</td>\n",
       "      <td>0.377436</td>\n",
       "      <td>-1.387024</td>\n",
       "      <td>...</td>\n",
       "      <td>-0.108300</td>\n",
       "      <td>0.005274</td>\n",
       "      <td>-0.190321</td>\n",
       "      <td>-1.175575</td>\n",
       "      <td>0.647376</td>\n",
       "      <td>-0.221929</td>\n",
       "      <td>0.062723</td>\n",
       "      <td>0.061458</td>\n",
       "      <td>123.50</td>\n",
       "      <td>0</td>\n",
       "    </tr>\n",
       "    <tr>\n",
       "      <td>4</td>\n",
       "      <td>2.0</td>\n",
       "      <td>-1.158233</td>\n",
       "      <td>0.877737</td>\n",
       "      <td>1.548718</td>\n",
       "      <td>0.403034</td>\n",
       "      <td>-0.407193</td>\n",
       "      <td>0.095921</td>\n",
       "      <td>0.592941</td>\n",
       "      <td>-0.270533</td>\n",
       "      <td>0.817739</td>\n",
       "      <td>...</td>\n",
       "      <td>-0.009431</td>\n",
       "      <td>0.798278</td>\n",
       "      <td>-0.137458</td>\n",
       "      <td>0.141267</td>\n",
       "      <td>-0.206010</td>\n",
       "      <td>0.502292</td>\n",
       "      <td>0.219422</td>\n",
       "      <td>0.215153</td>\n",
       "      <td>69.99</td>\n",
       "      <td>0</td>\n",
       "    </tr>\n",
       "  </tbody>\n",
       "</table>\n",
       "<p>5 rows × 31 columns</p>\n",
       "</div>"
      ],
      "text/plain": [
       "   time        v1        v2        v3        v4        v5        v6        v7  \\\n",
       "0   0.0 -1.359807 -0.072781  2.536347  1.378155 -0.338321  0.462388  0.239599   \n",
       "1   0.0  1.191857  0.266151  0.166480  0.448154  0.060018 -0.082361 -0.078803   \n",
       "2   1.0 -1.358354 -1.340163  1.773209  0.379780 -0.503198  1.800499  0.791461   \n",
       "3   1.0 -0.966272 -0.185226  1.792993 -0.863291 -0.010309  1.247203  0.237609   \n",
       "4   2.0 -1.158233  0.877737  1.548718  0.403034 -0.407193  0.095921  0.592941   \n",
       "\n",
       "         v8        v9  ...       v21       v22       v23       v24       v25  \\\n",
       "0  0.098698  0.363787  ... -0.018307  0.277838 -0.110474  0.066928  0.128539   \n",
       "1  0.085102 -0.255425  ... -0.225775 -0.638672  0.101288 -0.339846  0.167170   \n",
       "2  0.247676 -1.514654  ...  0.247998  0.771679  0.909412 -0.689281 -0.327642   \n",
       "3  0.377436 -1.387024  ... -0.108300  0.005274 -0.190321 -1.175575  0.647376   \n",
       "4 -0.270533  0.817739  ... -0.009431  0.798278 -0.137458  0.141267 -0.206010   \n",
       "\n",
       "        v26       v27       v28  amount  label  \n",
       "0 -0.189115  0.133558 -0.021053  149.62      0  \n",
       "1  0.125895 -0.008983  0.014724    2.69      0  \n",
       "2 -0.139097 -0.055353 -0.059752  378.66      0  \n",
       "3 -0.221929  0.062723  0.061458  123.50      0  \n",
       "4  0.502292  0.219422  0.215153   69.99      0  \n",
       "\n",
       "[5 rows x 31 columns]"
      ]
     },
     "execution_count": 3,
     "metadata": {},
     "output_type": "execute_result"
    }
   ],
   "source": [
    "# Shape of dataset\n",
    "print(\"Number of examples: {}\\nNumber of variables: {}\".format(dataset.shape[0], dataset.shape[1]))\n",
    "\n",
    "# Checking for number of unique labels\n",
    "print(\"Unique labels: {}\\n\".format(dataset.label.unique()))\n",
    "\n",
    "# Checking label counts\n",
    "print(\"Label counts: \\n{}\".format(dataset[\"label\"].value_counts()))\n",
    "\n",
    "# Printing first 5 rows\n",
    "dataset.head()"
   ]
  },
  {
   "cell_type": "markdown",
   "metadata": {},
   "source": [
    "We have 284,807 examples with 31 columns.  There are two unique labels in the dataset, meaning that this is a binary classification problem."
   ]
  },
  {
   "cell_type": "markdown",
   "metadata": {},
   "source": [
    "## IV. Missing Values Imputation"
   ]
  },
  {
   "cell_type": "code",
   "execution_count": 4,
   "metadata": {},
   "outputs": [
    {
     "name": "stdout",
     "output_type": "stream",
     "text": [
      "Variables with NaN values: []\n",
      "Variables with zero values: [{'time': 2}, {'amount': 1825}, {'label': 284315}]\n"
     ]
    }
   ],
   "source": [
    "# Checking for NaN values\n",
    "has_nan_vars = []\n",
    "for var, nan_count in (dataset.isnull().sum()).items():\n",
    "    if (nan_count != 0):\n",
    "        has_nan_vars.append({var: nan_count})\n",
    "        \n",
    "# Checking for 0 values\n",
    "has_zero_vars = []\n",
    "for var, zero_count in ((dataset == 0).astype(int).sum()).items():\n",
    "    if(zero_count != 0):\n",
    "        has_zero_vars.append({var: zero_count})\n",
    "        \n",
    "print(\"Variables with NaN values: {}\".format(has_nan_vars))\n",
    "print(\"Variables with zero values: {}\".format(has_zero_vars))"
   ]
  },
  {
   "cell_type": "code",
   "execution_count": 5,
   "metadata": {},
   "outputs": [
    {
     "name": "stdout",
     "output_type": "stream",
     "text": [
      "Fraudulent zero amount count: 27\n",
      "Non-fraudulent zero amount count: 1798\n"
     ]
    }
   ],
   "source": [
    "# Count entries that have a 0 value for amount and is fraudulent\n",
    "print(\"Fraudulent zero amount count: {}\".format(((dataset.amount == 0).astype(int) & (dataset.label == 1)).sum()))\n",
    "\n",
    "# Count entries that have a 0 value for amount and is not fraudulent\n",
    "print(\"Non-fraudulent zero amount count: {}\".format(((dataset.amount == 0).astype(int) & (dataset.label == 0)).sum()))"
   ]
  },
  {
   "cell_type": "markdown",
   "metadata": {},
   "source": [
    "No features have NaN values.  The only features that have zero values are time and amount.  Time is the amount of time in seconds after the first transaction which can be zero if the transactions occur at the same time.  Amount is the amount of money involved in a transaction.  27 entries have a 0 transaction amount and is fraudulent."
   ]
  },
  {
   "cell_type": "code",
   "execution_count": 6,
   "metadata": {},
   "outputs": [
    {
     "name": "stdout",
     "output_type": "stream",
     "text": [
      "Zero amount count: 0\n"
     ]
    }
   ],
   "source": [
    "# Remove 0 amount transactions\n",
    "copy_dataset = dataset.drop(dataset[dataset[\"amount\"] == 0].index)\n",
    "mean = copy_dataset[\"amount\"].mean()\n",
    "dataset[\"amount\"].mask(dataset[\"amount\"] == 0, mean, inplace = True)\n",
    "\n",
    "# Sanity check\n",
    "print(\"Zero amount count: {}\".format(((dataset.amount == 0).astype(int)).sum()))\n",
    "\n",
    "dataset.reset_index(drop = True, inplace = True)"
   ]
  },
  {
   "cell_type": "markdown",
   "metadata": {},
   "source": [
    "## V. Datatype Checking"
   ]
  },
  {
   "cell_type": "code",
   "execution_count": 7,
   "metadata": {
    "scrolled": true
   },
   "outputs": [
    {
     "name": "stdout",
     "output_type": "stream",
     "text": [
      "Feature Datatypes: \n",
      "float64    30\n",
      "int64       1\n",
      "dtype: int64\n"
     ]
    }
   ],
   "source": [
    "# Check if features are all continuous (float64)\n",
    "print(\"Feature Datatypes: \\n{}\".format(dataset.dtypes.value_counts()))"
   ]
  },
  {
   "cell_type": "markdown",
   "metadata": {},
   "source": [
    "All 30 features are continuous numerical with a datatype of float64.  The label is binary and is of type int64."
   ]
  },
  {
   "cell_type": "markdown",
   "metadata": {},
   "source": [
    "## VI. Duplicate Removal"
   ]
  },
  {
   "cell_type": "code",
   "execution_count": 8,
   "metadata": {
    "scrolled": true
   },
   "outputs": [
    {
     "data": {
      "text/plain": [
       "False    283726\n",
       "True       1081\n",
       "dtype: int64"
      ]
     },
     "execution_count": 8,
     "metadata": {},
     "output_type": "execute_result"
    }
   ],
   "source": [
    "# Checking for duplicate rows\n",
    "dataset.duplicated().value_counts()"
   ]
  },
  {
   "cell_type": "markdown",
   "metadata": {},
   "source": [
    "There are 1081 duplicate rows in the dataset.  These duplicates will have to be dropped so that there are no duplicates in the test set."
   ]
  },
  {
   "cell_type": "code",
   "execution_count": 9,
   "metadata": {},
   "outputs": [
    {
     "name": "stdout",
     "output_type": "stream",
     "text": [
      "Duplicates: 0\n"
     ]
    }
   ],
   "source": [
    "# Drop duplicates (Do not want duplicates in test set)\n",
    "dataset.drop_duplicates(inplace = True)\n",
    "\n",
    "# Duplicate drop sanity check\n",
    "print(\"Duplicates: {}\".format(dataset.duplicated().sum()))\n",
    "\n",
    "dataset.reset_index(drop = True, inplace = True)"
   ]
  },
  {
   "cell_type": "markdown",
   "metadata": {},
   "source": [
    "## VII. Data Splitting"
   ]
  },
  {
   "cell_type": "code",
   "execution_count": 10,
   "metadata": {},
   "outputs": [],
   "source": [
    "from sklearn.model_selection import train_test_split\n",
    "\n",
    "train_features, test_features, train_labels, test_labels = train_test_split(dataset.drop(\"label\", axis = 1), dataset[[\"label\"]], test_size = 0.05, random_state = 42)\n",
    "train_features, val_features, train_labels, val_labels = train_test_split(train_features, train_labels, test_size = 0.03, random_state=42)"
   ]
  },
  {
   "cell_type": "code",
   "execution_count": 11,
   "metadata": {
    "scrolled": true
   },
   "outputs": [
    {
     "data": {
      "text/plain": [
       "0    14162\n",
       "1       25\n",
       "Name: label, dtype: int64"
      ]
     },
     "execution_count": 11,
     "metadata": {},
     "output_type": "execute_result"
    }
   ],
   "source": [
    "test_labels[\"label\"].value_counts()"
   ]
  },
  {
   "cell_type": "markdown",
   "metadata": {},
   "source": [
    "## VIII. Feature Scaling"
   ]
  },
  {
   "cell_type": "code",
   "execution_count": 12,
   "metadata": {},
   "outputs": [],
   "source": [
    "from sklearn.preprocessing import StandardScaler\n",
    "\n",
    "# Initialize scaler and computer training mean and std\n",
    "scaler = StandardScaler()\n",
    "scaler.fit(train_features)\n",
    "\n",
    "# Normalize the training and testing features using training mean and std\n",
    "train_features = pd.DataFrame(scaler.transform(train_features), index = train_features.index, columns = train_features.columns)\n",
    "test_features = pd.DataFrame(scaler.transform(test_features), index = test_features.index, columns = test_features.columns)"
   ]
  },
  {
   "cell_type": "code",
   "execution_count": 13,
   "metadata": {
    "scrolled": true
   },
   "outputs": [
    {
     "data": {
      "text/html": [
       "<div>\n",
       "<style scoped>\n",
       "    .dataframe tbody tr th:only-of-type {\n",
       "        vertical-align: middle;\n",
       "    }\n",
       "\n",
       "    .dataframe tbody tr th {\n",
       "        vertical-align: top;\n",
       "    }\n",
       "\n",
       "    .dataframe thead th {\n",
       "        text-align: right;\n",
       "    }\n",
       "</style>\n",
       "<table border=\"1\" class=\"dataframe\">\n",
       "  <thead>\n",
       "    <tr style=\"text-align: right;\">\n",
       "      <th></th>\n",
       "      <th>time</th>\n",
       "      <th>v1</th>\n",
       "      <th>v2</th>\n",
       "      <th>v3</th>\n",
       "      <th>v4</th>\n",
       "      <th>v5</th>\n",
       "      <th>v6</th>\n",
       "      <th>v7</th>\n",
       "      <th>v8</th>\n",
       "      <th>v9</th>\n",
       "      <th>...</th>\n",
       "      <th>v20</th>\n",
       "      <th>v21</th>\n",
       "      <th>v22</th>\n",
       "      <th>v23</th>\n",
       "      <th>v24</th>\n",
       "      <th>v25</th>\n",
       "      <th>v26</th>\n",
       "      <th>v27</th>\n",
       "      <th>v28</th>\n",
       "      <th>amount</th>\n",
       "    </tr>\n",
       "  </thead>\n",
       "  <tbody>\n",
       "    <tr>\n",
       "      <td>count</td>\n",
       "      <td>261452.00</td>\n",
       "      <td>261452.00</td>\n",
       "      <td>261452.00</td>\n",
       "      <td>261452.00</td>\n",
       "      <td>261452.00</td>\n",
       "      <td>261452.00</td>\n",
       "      <td>261452.00</td>\n",
       "      <td>261452.00</td>\n",
       "      <td>261452.00</td>\n",
       "      <td>261452.00</td>\n",
       "      <td>...</td>\n",
       "      <td>261452.00</td>\n",
       "      <td>261452.00</td>\n",
       "      <td>261452.00</td>\n",
       "      <td>261452.00</td>\n",
       "      <td>261452.00</td>\n",
       "      <td>261452.00</td>\n",
       "      <td>261452.00</td>\n",
       "      <td>261452.00</td>\n",
       "      <td>261452.00</td>\n",
       "      <td>261452.00</td>\n",
       "    </tr>\n",
       "    <tr>\n",
       "      <td>mean</td>\n",
       "      <td>0.00</td>\n",
       "      <td>0.00</td>\n",
       "      <td>-0.00</td>\n",
       "      <td>-0.00</td>\n",
       "      <td>-0.00</td>\n",
       "      <td>-0.00</td>\n",
       "      <td>0.00</td>\n",
       "      <td>-0.00</td>\n",
       "      <td>0.00</td>\n",
       "      <td>0.00</td>\n",
       "      <td>...</td>\n",
       "      <td>-0.00</td>\n",
       "      <td>-0.00</td>\n",
       "      <td>-0.00</td>\n",
       "      <td>0.00</td>\n",
       "      <td>0.00</td>\n",
       "      <td>0.00</td>\n",
       "      <td>-0.00</td>\n",
       "      <td>0.00</td>\n",
       "      <td>0.00</td>\n",
       "      <td>0.00</td>\n",
       "    </tr>\n",
       "    <tr>\n",
       "      <td>std</td>\n",
       "      <td>1.00</td>\n",
       "      <td>1.00</td>\n",
       "      <td>1.00</td>\n",
       "      <td>1.00</td>\n",
       "      <td>1.00</td>\n",
       "      <td>1.00</td>\n",
       "      <td>1.00</td>\n",
       "      <td>1.00</td>\n",
       "      <td>1.00</td>\n",
       "      <td>1.00</td>\n",
       "      <td>...</td>\n",
       "      <td>1.00</td>\n",
       "      <td>1.00</td>\n",
       "      <td>1.00</td>\n",
       "      <td>1.00</td>\n",
       "      <td>1.00</td>\n",
       "      <td>1.00</td>\n",
       "      <td>1.00</td>\n",
       "      <td>1.00</td>\n",
       "      <td>1.00</td>\n",
       "      <td>1.00</td>\n",
       "    </tr>\n",
       "    <tr>\n",
       "      <td>min</td>\n",
       "      <td>-2.00</td>\n",
       "      <td>-28.97</td>\n",
       "      <td>-44.15</td>\n",
       "      <td>-31.98</td>\n",
       "      <td>-4.02</td>\n",
       "      <td>-82.42</td>\n",
       "      <td>-19.63</td>\n",
       "      <td>-35.33</td>\n",
       "      <td>-62.01</td>\n",
       "      <td>-12.26</td>\n",
       "      <td>...</td>\n",
       "      <td>-70.64</td>\n",
       "      <td>-48.25</td>\n",
       "      <td>-15.09</td>\n",
       "      <td>-71.61</td>\n",
       "      <td>-4.69</td>\n",
       "      <td>-19.74</td>\n",
       "      <td>-5.40</td>\n",
       "      <td>-56.98</td>\n",
       "      <td>-47.27</td>\n",
       "      <td>-0.35</td>\n",
       "    </tr>\n",
       "    <tr>\n",
       "      <td>25%</td>\n",
       "      <td>-0.86</td>\n",
       "      <td>-0.47</td>\n",
       "      <td>-0.36</td>\n",
       "      <td>-0.59</td>\n",
       "      <td>-0.60</td>\n",
       "      <td>-0.50</td>\n",
       "      <td>-0.58</td>\n",
       "      <td>-0.45</td>\n",
       "      <td>-0.18</td>\n",
       "      <td>-0.59</td>\n",
       "      <td>...</td>\n",
       "      <td>-0.27</td>\n",
       "      <td>-0.32</td>\n",
       "      <td>-0.75</td>\n",
       "      <td>-0.26</td>\n",
       "      <td>-0.59</td>\n",
       "      <td>-0.61</td>\n",
       "      <td>-0.68</td>\n",
       "      <td>-0.18</td>\n",
       "      <td>-0.16</td>\n",
       "      <td>-0.33</td>\n",
       "    </tr>\n",
       "    <tr>\n",
       "      <td>50%</td>\n",
       "      <td>-0.21</td>\n",
       "      <td>0.01</td>\n",
       "      <td>0.04</td>\n",
       "      <td>0.12</td>\n",
       "      <td>-0.01</td>\n",
       "      <td>-0.04</td>\n",
       "      <td>-0.21</td>\n",
       "      <td>0.03</td>\n",
       "      <td>0.02</td>\n",
       "      <td>-0.05</td>\n",
       "      <td>...</td>\n",
       "      <td>-0.08</td>\n",
       "      <td>-0.04</td>\n",
       "      <td>0.01</td>\n",
       "      <td>-0.02</td>\n",
       "      <td>0.07</td>\n",
       "      <td>0.03</td>\n",
       "      <td>-0.11</td>\n",
       "      <td>-0.00</td>\n",
       "      <td>0.03</td>\n",
       "      <td>-0.26</td>\n",
       "    </tr>\n",
       "    <tr>\n",
       "      <td>75%</td>\n",
       "      <td>0.94</td>\n",
       "      <td>0.67</td>\n",
       "      <td>0.49</td>\n",
       "      <td>0.68</td>\n",
       "      <td>0.53</td>\n",
       "      <td>0.44</td>\n",
       "      <td>0.30</td>\n",
       "      <td>0.46</td>\n",
       "      <td>0.28</td>\n",
       "      <td>0.54</td>\n",
       "      <td>...</td>\n",
       "      <td>0.17</td>\n",
       "      <td>0.26</td>\n",
       "      <td>0.73</td>\n",
       "      <td>0.24</td>\n",
       "      <td>0.73</td>\n",
       "      <td>0.67</td>\n",
       "      <td>0.50</td>\n",
       "      <td>0.23</td>\n",
       "      <td>0.24</td>\n",
       "      <td>-0.04</td>\n",
       "    </tr>\n",
       "    <tr>\n",
       "      <td>max</td>\n",
       "      <td>1.64</td>\n",
       "      <td>1.26</td>\n",
       "      <td>13.40</td>\n",
       "      <td>6.21</td>\n",
       "      <td>11.93</td>\n",
       "      <td>25.22</td>\n",
       "      <td>55.00</td>\n",
       "      <td>97.80</td>\n",
       "      <td>16.59</td>\n",
       "      <td>14.23</td>\n",
       "      <td>...</td>\n",
       "      <td>51.09</td>\n",
       "      <td>31.33</td>\n",
       "      <td>14.50</td>\n",
       "      <td>36.00</td>\n",
       "      <td>7.57</td>\n",
       "      <td>14.42</td>\n",
       "      <td>7.30</td>\n",
       "      <td>79.82</td>\n",
       "      <td>103.70</td>\n",
       "      <td>101.52</td>\n",
       "    </tr>\n",
       "  </tbody>\n",
       "</table>\n",
       "<p>8 rows × 30 columns</p>\n",
       "</div>"
      ],
      "text/plain": [
       "            time         v1         v2         v3         v4         v5  \\\n",
       "count  261452.00  261452.00  261452.00  261452.00  261452.00  261452.00   \n",
       "mean        0.00       0.00      -0.00      -0.00      -0.00      -0.00   \n",
       "std         1.00       1.00       1.00       1.00       1.00       1.00   \n",
       "min        -2.00     -28.97     -44.15     -31.98      -4.02     -82.42   \n",
       "25%        -0.86      -0.47      -0.36      -0.59      -0.60      -0.50   \n",
       "50%        -0.21       0.01       0.04       0.12      -0.01      -0.04   \n",
       "75%         0.94       0.67       0.49       0.68       0.53       0.44   \n",
       "max         1.64       1.26      13.40       6.21      11.93      25.22   \n",
       "\n",
       "              v6         v7         v8         v9  ...        v20        v21  \\\n",
       "count  261452.00  261452.00  261452.00  261452.00  ...  261452.00  261452.00   \n",
       "mean        0.00      -0.00       0.00       0.00  ...      -0.00      -0.00   \n",
       "std         1.00       1.00       1.00       1.00  ...       1.00       1.00   \n",
       "min       -19.63     -35.33     -62.01     -12.26  ...     -70.64     -48.25   \n",
       "25%        -0.58      -0.45      -0.18      -0.59  ...      -0.27      -0.32   \n",
       "50%        -0.21       0.03       0.02      -0.05  ...      -0.08      -0.04   \n",
       "75%         0.30       0.46       0.28       0.54  ...       0.17       0.26   \n",
       "max        55.00      97.80      16.59      14.23  ...      51.09      31.33   \n",
       "\n",
       "             v22        v23        v24        v25        v26        v27  \\\n",
       "count  261452.00  261452.00  261452.00  261452.00  261452.00  261452.00   \n",
       "mean       -0.00       0.00       0.00       0.00      -0.00       0.00   \n",
       "std         1.00       1.00       1.00       1.00       1.00       1.00   \n",
       "min       -15.09     -71.61      -4.69     -19.74      -5.40     -56.98   \n",
       "25%        -0.75      -0.26      -0.59      -0.61      -0.68      -0.18   \n",
       "50%         0.01      -0.02       0.07       0.03      -0.11      -0.00   \n",
       "75%         0.73       0.24       0.73       0.67       0.50       0.23   \n",
       "max        14.50      36.00       7.57      14.42       7.30      79.82   \n",
       "\n",
       "             v28     amount  \n",
       "count  261452.00  261452.00  \n",
       "mean        0.00       0.00  \n",
       "std         1.00       1.00  \n",
       "min       -47.27      -0.35  \n",
       "25%        -0.16      -0.33  \n",
       "50%         0.03      -0.26  \n",
       "75%         0.24      -0.04  \n",
       "max       103.70     101.52  \n",
       "\n",
       "[8 rows x 30 columns]"
      ]
     },
     "execution_count": 13,
     "metadata": {},
     "output_type": "execute_result"
    }
   ],
   "source": [
    "train_features.describe().round(2)"
   ]
  },
  {
   "cell_type": "markdown",
   "metadata": {},
   "source": [
    "## IX. Resampling: Undersample, Oversample, SMOTE"
   ]
  },
  {
   "cell_type": "code",
   "execution_count": 14,
   "metadata": {
    "scrolled": true
   },
   "outputs": [
    {
     "name": "stderr",
     "output_type": "stream",
     "text": [
      "Using TensorFlow backend.\n"
     ]
    }
   ],
   "source": [
    "from imblearn.over_sampling import SMOTE\n",
    "from sklearn.utils import resample\n",
    "\n",
    "# Concatenate features and labels for train set\n",
    "train_dataset = pd.concat([train_features, train_labels], axis = 1)\n",
    "\n",
    "# Get non_fraud and fraud data\n",
    "not_fraud_dataset = train_dataset[train_dataset.label == 0]\n",
    "fraud_dataset = train_dataset[train_dataset.label == 1]\n",
    "\n",
    "def undersample(not_fraud_dataset, fraud_dataset):\n",
    "    # Undersample not_fraud\n",
    "    not_fraud_undersampled = resample(not_fraud_dataset, replace = True, n_samples = len(fraud_dataset), random_state = 42)\n",
    "    \n",
    "    # Concatenate undersampled not_fraud with fraud\n",
    "    train_dataset_undersampled = pd.concat([not_fraud_undersampled, fraud_dataset])\n",
    "    \n",
    "    return train_dataset_undersampled\n",
    "\n",
    "def oversample(not_fraud_dataset, fraud_dataset):\n",
    "    # Oversample fraud\n",
    "    fraud_oversampled = resample(fraud_dataset, replace = True, n_samples = len(not_fraud_dataset), random_state = 42)\n",
    "    \n",
    "    # Concatenate oversampled fraud with not_fraud\n",
    "    train_dataset_oversampled = pd.concat([fraud_oversampled, not_fraud_dataset])\n",
    "    \n",
    "    return train_dataset_oversampled\n",
    "\n",
    "def smote(train_features, train_labels):\n",
    "    # Apply smote\n",
    "    sm = SMOTE(random_state = 42)\n",
    "    train_features_smote, train_labels_smote = sm.fit_sample(train_features, train_labels)\n",
    "\n",
    "    # Concatenate features and labels\n",
    "    train_features_smote_df = pd.DataFrame(train_features_smote, columns = train_features.columns)\n",
    "    train_lables_smote_df = pd.DataFrame(train_labels_smote, columns = train_labels.columns)\n",
    "    train_dataset_smote = pd.concat([train_features_smote_df, train_lables_smote_df], axis = 1)\n",
    "    \n",
    "    return train_dataset_smote"
   ]
  },
  {
   "cell_type": "code",
   "execution_count": 15,
   "metadata": {
    "scrolled": true
   },
   "outputs": [
    {
     "name": "stderr",
     "output_type": "stream",
     "text": [
      "/usr/local/lib/python3.7/site-packages/sklearn/utils/validation.py:724: DataConversionWarning: A column-vector y was passed when a 1d array was expected. Please change the shape of y to (n_samples, ), for example using ravel().\n",
      "  y = column_or_1d(y, warn=True)\n"
     ]
    }
   ],
   "source": [
    "# Datasets\n",
    "train_dataset_undersampled = undersample(not_fraud_dataset, fraud_dataset)\n",
    "train_dataset_oversampled = oversample(not_fraud_dataset, fraud_dataset)\n",
    "train_dataset_smote = smote(train_features, train_labels)\n",
    "\n",
    "# Train dataset dictionary\n",
    "train_datasets_dict = {\"Unsampled\": train_dataset, \"Undersampled\": train_dataset_undersampled, \"Oversampled\": train_dataset_oversampled, \"SMOTE\": train_dataset_smote}\n"
   ]
  },
  {
   "cell_type": "code",
   "execution_count": 16,
   "metadata": {
    "scrolled": true
   },
   "outputs": [
    {
     "name": "stdout",
     "output_type": "stream",
     "text": [
      "Unsampled Label Counts\n",
      "0    261018\n",
      "1       434\n",
      "Name: label, dtype: int64\n",
      "\n",
      "Undersampled Label Counts\n",
      "1    434\n",
      "0    434\n",
      "Name: label, dtype: int64\n",
      "\n",
      "Oversampled Label Counts\n",
      "1    261018\n",
      "0    261018\n",
      "Name: label, dtype: int64\n",
      "\n",
      "SMOTE Label Counts\n",
      "1    261018\n",
      "0    261018\n",
      "Name: label, dtype: int64\n",
      "\n"
     ]
    }
   ],
   "source": [
    "# Print label counts\n",
    "for name, data in train_datasets_dict.items():\n",
    "    print(\"{} Label Counts\\n{}\\n\".format(name, data.label.value_counts()))"
   ]
  },
  {
   "cell_type": "markdown",
   "metadata": {},
   "source": [
    "## X. Write to File"
   ]
  },
  {
   "cell_type": "code",
   "execution_count": 17,
   "metadata": {},
   "outputs": [],
   "source": [
    "# Write training datasets\n",
    "for key in train_datasets_dict:\n",
    "    train_datasets_dict[key].to_csv(\"../data/preprocessed/{}_train_dataset.csv\".format(key), index = False)\n",
    "\n",
    "# Write val features and labels\n",
    "val_features.to_csv(\"../data/preprocessed/val_features.csv\", index = False)\n",
    "val_labels.to_csv(\"../data/preprocessed/val_labels.csv\", index = False)\n",
    "\n",
    "# Write test features and labels\n",
    "test_features.to_csv(\"../data/preprocessed/test_features.csv\", index = False)\n",
    "test_labels.to_csv(\"../data/preprocessed/test_labels.csv\", index = False)"
   ]
  },
  {
   "cell_type": "code",
   "execution_count": null,
   "metadata": {},
   "outputs": [],
   "source": []
  }
 ],
 "metadata": {
  "kernelspec": {
   "display_name": "Python 3",
   "language": "python",
   "name": "python3"
  },
  "language_info": {
   "codemirror_mode": {
    "name": "ipython",
    "version": 3
   },
   "file_extension": ".py",
   "mimetype": "text/x-python",
   "name": "python",
   "nbconvert_exporter": "python",
   "pygments_lexer": "ipython3",
   "version": "3.7.4"
  }
 },
 "nbformat": 4,
 "nbformat_minor": 2
}
